{
 "cells": [
  {
   "cell_type": "code",
   "execution_count": null,
   "metadata": {},
   "outputs": [],
   "source": [
    "import tensorflow as tf\n",
    "import os\n",
    "import pandas as pd\n",
    "import numpy as np\n",
    "from tensorflow.keras.models import Sequential\n",
    "from tensorflow.keras.layers import *\n",
    "from tensorflow.keras.callbacks import ModelCheckpoint\n",
    "from tensorflow.keras.losses import MeanSquaredError\n",
    "from tensorflow.keras.metrics import RootMeanSquaredError\n",
    "from tensorflow.keras.optimizers import Adam"
   ]
  },
  {
   "cell_type": "code",
   "execution_count": null,
   "metadata": {},
   "outputs": [],
   "source": [
    "df = pd.read_csv(\"/mnt/waterchallenge/MainData/00_all_ClimateIndices_and_precip.csv\")\n",
    "df.index = pd.to_datetime(df['date'])"
   ]
  },
  {
   "cell_type": "code",
   "execution_count": null,
   "metadata": {},
   "outputs": [],
   "source": [
    "rainfall = df['precipitation']\n",
    "rainfall.plot()"
   ]
  },
  {
   "cell_type": "code",
   "execution_count": null,
   "metadata": {},
   "outputs": [],
   "source": [
    "# # Preprocessing\n",
    "# # Drop all data that doesn't go past 2016\n",
    "# drop_vars = [\"atltri\", \"brazilrain\", \"censo_long\", \"eofpac\", \"indiamon\", \"ipotpi_hadisst2\", \"noi\", \"swmonsoon\", \"trend\", \"epo\"]\n",
    "# for var in drop_vars:\n",
    "#     df = df.drop(var, axis=1)"
   ]
  },
  {
   "cell_type": "code",
   "execution_count": 120,
   "metadata": {},
   "outputs": [],
   "source": [
    "df_prefiltered = df[df['date'] >= '1979-01-01']\n",
    "df_prefiltered = df_prefiltered[df_prefiltered['date'] < '2015-01-01']\n",
    "df_prefiltered = df_prefiltered.drop('date', axis=1)"
   ]
  },
  {
   "cell_type": "code",
   "execution_count": 123,
   "metadata": {},
   "outputs": [],
   "source": [
    "df_filtered = df_prefiltered[['precipitation', 'NTA_ersst','ao', 'hurr', 'nao', 'np', 'pna', 'sahelrain', 'tni']]"
   ]
  },
  {
   "cell_type": "code",
   "execution_count": 124,
   "metadata": {},
   "outputs": [
    {
     "data": {
      "text/html": [
       "<div>\n",
       "<style scoped>\n",
       "    .dataframe tbody tr th:only-of-type {\n",
       "        vertical-align: middle;\n",
       "    }\n",
       "\n",
       "    .dataframe tbody tr th {\n",
       "        vertical-align: top;\n",
       "    }\n",
       "\n",
       "    .dataframe thead th {\n",
       "        text-align: right;\n",
       "    }\n",
       "</style>\n",
       "<table border=\"1\" class=\"dataframe\">\n",
       "  <thead>\n",
       "    <tr style=\"text-align: right;\">\n",
       "      <th></th>\n",
       "      <th>precipitation</th>\n",
       "      <th>NTA_ersst</th>\n",
       "      <th>ao</th>\n",
       "      <th>hurr</th>\n",
       "      <th>nao</th>\n",
       "      <th>np</th>\n",
       "      <th>pna</th>\n",
       "      <th>sahelrain</th>\n",
       "      <th>tni</th>\n",
       "    </tr>\n",
       "    <tr>\n",
       "      <th>date</th>\n",
       "      <th></th>\n",
       "      <th></th>\n",
       "      <th></th>\n",
       "      <th></th>\n",
       "      <th></th>\n",
       "      <th></th>\n",
       "      <th></th>\n",
       "      <th></th>\n",
       "      <th></th>\n",
       "    </tr>\n",
       "  </thead>\n",
       "  <tbody>\n",
       "    <tr>\n",
       "      <th>1979-01-01</th>\n",
       "      <td>168.1827</td>\n",
       "      <td>-0.01</td>\n",
       "      <td>-2.233</td>\n",
       "      <td>0.00</td>\n",
       "      <td>-2.12</td>\n",
       "      <td>1006.27</td>\n",
       "      <td>-1.54</td>\n",
       "      <td>16.0</td>\n",
       "      <td>-0.343</td>\n",
       "    </tr>\n",
       "    <tr>\n",
       "      <th>1979-02-01</th>\n",
       "      <td>207.2732</td>\n",
       "      <td>0.11</td>\n",
       "      <td>-0.697</td>\n",
       "      <td>0.00</td>\n",
       "      <td>-1.20</td>\n",
       "      <td>1014.25</td>\n",
       "      <td>-2.73</td>\n",
       "      <td>-8.0</td>\n",
       "      <td>-0.309</td>\n",
       "    </tr>\n",
       "    <tr>\n",
       "      <th>1979-03-01</th>\n",
       "      <td>106.4210</td>\n",
       "      <td>0.14</td>\n",
       "      <td>-0.814</td>\n",
       "      <td>0.00</td>\n",
       "      <td>0.41</td>\n",
       "      <td>1008.15</td>\n",
       "      <td>0.08</td>\n",
       "      <td>2.0</td>\n",
       "      <td>-0.347</td>\n",
       "    </tr>\n",
       "    <tr>\n",
       "      <th>1979-04-01</th>\n",
       "      <td>65.0694</td>\n",
       "      <td>0.12</td>\n",
       "      <td>-1.157</td>\n",
       "      <td>0.00</td>\n",
       "      <td>-2.01</td>\n",
       "      <td>1015.65</td>\n",
       "      <td>-0.15</td>\n",
       "      <td>-30.0</td>\n",
       "      <td>-0.187</td>\n",
       "    </tr>\n",
       "    <tr>\n",
       "      <th>1979-05-01</th>\n",
       "      <td>38.8513</td>\n",
       "      <td>0.14</td>\n",
       "      <td>-0.250</td>\n",
       "      <td>0.00</td>\n",
       "      <td>-0.90</td>\n",
       "      <td>1013.37</td>\n",
       "      <td>1.27</td>\n",
       "      <td>100.0</td>\n",
       "      <td>0.067</td>\n",
       "    </tr>\n",
       "    <tr>\n",
       "      <th>...</th>\n",
       "      <td>...</td>\n",
       "      <td>...</td>\n",
       "      <td>...</td>\n",
       "      <td>...</td>\n",
       "      <td>...</td>\n",
       "      <td>...</td>\n",
       "      <td>...</td>\n",
       "      <td>...</td>\n",
       "      <td>...</td>\n",
       "    </tr>\n",
       "    <tr>\n",
       "      <th>2014-08-01</th>\n",
       "      <td>10.7854</td>\n",
       "      <td>0.21</td>\n",
       "      <td>-0.372</td>\n",
       "      <td>4.25</td>\n",
       "      <td>-2.28</td>\n",
       "      <td>1014.39</td>\n",
       "      <td>1.35</td>\n",
       "      <td>184.0</td>\n",
       "      <td>-0.499</td>\n",
       "    </tr>\n",
       "    <tr>\n",
       "      <th>2014-09-01</th>\n",
       "      <td>28.0406</td>\n",
       "      <td>0.34</td>\n",
       "      <td>0.102</td>\n",
       "      <td>4.50</td>\n",
       "      <td>1.72</td>\n",
       "      <td>1012.06</td>\n",
       "      <td>0.78</td>\n",
       "      <td>179.0</td>\n",
       "      <td>-0.813</td>\n",
       "    </tr>\n",
       "    <tr>\n",
       "      <th>2014-10-01</th>\n",
       "      <td>46.9196</td>\n",
       "      <td>0.34</td>\n",
       "      <td>-1.134</td>\n",
       "      <td>6.75</td>\n",
       "      <td>-0.87</td>\n",
       "      <td>1011.17</td>\n",
       "      <td>1.14</td>\n",
       "      <td>29.0</td>\n",
       "      <td>-1.238</td>\n",
       "    </tr>\n",
       "    <tr>\n",
       "      <th>2014-11-01</th>\n",
       "      <td>87.9625</td>\n",
       "      <td>0.26</td>\n",
       "      <td>-0.530</td>\n",
       "      <td>0.00</td>\n",
       "      <td>0.58</td>\n",
       "      <td>1008.51</td>\n",
       "      <td>0.64</td>\n",
       "      <td>16.0</td>\n",
       "      <td>-1.715</td>\n",
       "    </tr>\n",
       "    <tr>\n",
       "      <th>2014-12-01</th>\n",
       "      <td>297.4748</td>\n",
       "      <td>0.18</td>\n",
       "      <td>0.413</td>\n",
       "      <td>0.00</td>\n",
       "      <td>1.63</td>\n",
       "      <td>1005.10</td>\n",
       "      <td>0.37</td>\n",
       "      <td>-2.0</td>\n",
       "      <td>-2.117</td>\n",
       "    </tr>\n",
       "  </tbody>\n",
       "</table>\n",
       "<p>432 rows × 9 columns</p>\n",
       "</div>"
      ],
      "text/plain": [
       "            precipitation  NTA_ersst     ao  hurr   nao       np   pna  \\\n",
       "date                                                                     \n",
       "1979-01-01       168.1827      -0.01 -2.233  0.00 -2.12  1006.27 -1.54   \n",
       "1979-02-01       207.2732       0.11 -0.697  0.00 -1.20  1014.25 -2.73   \n",
       "1979-03-01       106.4210       0.14 -0.814  0.00  0.41  1008.15  0.08   \n",
       "1979-04-01        65.0694       0.12 -1.157  0.00 -2.01  1015.65 -0.15   \n",
       "1979-05-01        38.8513       0.14 -0.250  0.00 -0.90  1013.37  1.27   \n",
       "...                   ...        ...    ...   ...   ...      ...   ...   \n",
       "2014-08-01        10.7854       0.21 -0.372  4.25 -2.28  1014.39  1.35   \n",
       "2014-09-01        28.0406       0.34  0.102  4.50  1.72  1012.06  0.78   \n",
       "2014-10-01        46.9196       0.34 -1.134  6.75 -0.87  1011.17  1.14   \n",
       "2014-11-01        87.9625       0.26 -0.530  0.00  0.58  1008.51  0.64   \n",
       "2014-12-01       297.4748       0.18  0.413  0.00  1.63  1005.10  0.37   \n",
       "\n",
       "            sahelrain    tni  \n",
       "date                          \n",
       "1979-01-01       16.0 -0.343  \n",
       "1979-02-01       -8.0 -0.309  \n",
       "1979-03-01        2.0 -0.347  \n",
       "1979-04-01      -30.0 -0.187  \n",
       "1979-05-01      100.0  0.067  \n",
       "...               ...    ...  \n",
       "2014-08-01      184.0 -0.499  \n",
       "2014-09-01      179.0 -0.813  \n",
       "2014-10-01       29.0 -1.238  \n",
       "2014-11-01       16.0 -1.715  \n",
       "2014-12-01       -2.0 -2.117  \n",
       "\n",
       "[432 rows x 9 columns]"
      ]
     },
     "execution_count": 124,
     "metadata": {},
     "output_type": "execute_result"
    }
   ],
   "source": [
    "# df_filtered = df_filtered.dropna()\n",
    "df_filtered"
   ]
  },
  {
   "cell_type": "code",
   "execution_count": null,
   "metadata": {},
   "outputs": [],
   "source": [
    "# day = 60 * 60 * 24      # seconds in a day\n",
    "# year = 365.2425 * day   # seconds in a year\n",
    "\n",
    "# temp_df['Day sin'] = np.sin(temp_df['Seconds'] * (2 * np.pi / day))\n",
    "# temp_df['Day cos'] = np.cos(temp_df['Seconds'] * (2 * np.pi / day))\n",
    "# temp_df['Year sin'] = np.sin(temp_df['Seconds'] * (2 * np.pi / year))\n",
    "# temp_df['Year cos'] = np.cos(temp_df['Seconds'] * (2 * np.pi / year))\n",
    "# temp_df.head()"
   ]
  },
  {
   "cell_type": "code",
   "execution_count": null,
   "metadata": {},
   "outputs": [],
   "source": [
    "# temp_df = temp_df.drop('Seconds', axis=1)\n",
    "# temp_df.head()"
   ]
  },
  {
   "cell_type": "code",
   "execution_count": 143,
   "metadata": {},
   "outputs": [],
   "source": [
    "# Every 5 months try to predict the next month\n",
    "# [[[p1, ds1, ... (all features)], [p2, ds2], [p3, ds3], [p4, ds4], [p5, ds5]]] [p6] \n",
    "# [[[p2, ds2], [p3, ds3], [p4, ds4], [p5, ds5], [p6, ds6]]] [p7]\n",
    "# etc...\n",
    "\n",
    "# X is the 3d tensor (matrix), y is the prediction\n",
    "def df_to_X_y2(df, window_size=12):\n",
    "  df_as_np = df.to_numpy()\n",
    "  X = []\n",
    "  y = []\n",
    "  for i in range(len(df_as_np)-window_size):\n",
    "    row = [r for r in df_as_np[i:i+window_size]]\n",
    "    X.append(row)\n",
    "    label = df_as_np[i+window_size][0]\n",
    "    \n",
    "    y.append(label)\n",
    "  return np.array(X), np.array(y)"
   ]
  },
  {
   "cell_type": "code",
   "execution_count": null,
   "metadata": {},
   "outputs": [],
   "source": []
  },
  {
   "cell_type": "code",
   "execution_count": 144,
   "metadata": {},
   "outputs": [
    {
     "data": {
      "text/plain": [
       "420"
      ]
     },
     "execution_count": 144,
     "metadata": {},
     "output_type": "execute_result"
    }
   ],
   "source": [
    "# Create tensors\n",
    "X2, y2 = df_to_X_y2(df_filtered)\n",
    "X2.shape, y2.shape\n",
    "# X2\n",
    "X2.shape[0]"
   ]
  },
  {
   "cell_type": "code",
   "execution_count": 145,
   "metadata": {},
   "outputs": [
    {
     "data": {
      "text/plain": [
       "((345, 12, 9), (345,), (43, 12, 9), (43,), (32, 12, 9), (32,))"
      ]
     },
     "execution_count": 145,
     "metadata": {},
     "output_type": "execute_result"
    }
   ],
   "source": [
    "# Split into training, values, and testing\n",
    "X_train2, y_train2 = X2[:345], y2[:345]\n",
    "X_val2, y_val2 = X2[345:388], y2[345:388]\n",
    "X_test2, y_test2 = X2[388:], y2[388:]\n",
    "\n",
    "X_train2.shape, y_train2.shape, X_val2.shape, y_val2.shape, X_test2.shape, y_test2.shape"
   ]
  },
  {
   "cell_type": "code",
   "execution_count": 146,
   "metadata": {},
   "outputs": [],
   "source": [
    "# need to scale all values to relative numbers (so large numbers don't overpower small numbers)\n",
    "\n",
    "def preprocess(X):\n",
    "    for i in range(0, 9):\n",
    "        feature_training_mean = np.mean(X_train2[:, :, i])\n",
    "        feature_training_std = np.std(X_train2[:, :, i])\n",
    "        X[:, :, i] = (X[:, :, i] - feature_training_mean) / feature_training_std\n",
    "    return X"
   ]
  },
  {
   "cell_type": "code",
   "execution_count": 147,
   "metadata": {},
   "outputs": [
    {
     "data": {
      "text/plain": [
       "(array([[[ 0.98066753,  0.05463353, -2.32131994, ..., -1.51157242,\n",
       "           0.15624437,  0.21239861],\n",
       "         [ 1.40619136,  0.42598309, -0.7316514 , ..., -2.68570505,\n",
       "          -0.04479734,  0.23377439],\n",
       "         [ 0.30835392,  0.51882048, -0.85273944, ...,  0.08682661,\n",
       "           0.03897004,  0.20988382],\n",
       "         ...,\n",
       "         [ 0.45808218, -0.5333366 , -1.29672889, ...,  1.83322556,\n",
       "           0.25676523,  0.43244336],\n",
       "         [ 0.35026133, -0.16198704,  0.48129881, ...,  0.51109303,\n",
       "           0.28189544,  0.24886317],\n",
       "         [ 0.91181388,  0.48787468,  1.32994998, ..., -0.6630396 ,\n",
       "           0.03897004, -0.04851159]],\n",
       " \n",
       "        [[ 1.40619136,  0.42598309, -0.7316514 , ..., -2.68570505,\n",
       "          -0.04479734,  0.23377439],\n",
       "         [ 0.30835392,  0.51882048, -0.85273944, ...,  0.08682661,\n",
       "           0.03897004,  0.20988382],\n",
       "         [-0.14178336,  0.45692888, -1.20772401, ..., -0.14010658,\n",
       "          -0.22908557,  0.3104757 ],\n",
       "         ...,\n",
       "         [ 0.35026133, -0.16198704,  0.48129881, ...,  0.51109303,\n",
       "           0.28189544,  0.24886317],\n",
       "         [ 0.91181388,  0.48787468,  1.32994998, ..., -0.6630396 ,\n",
       "           0.03897004, -0.04851159],\n",
       "         [ 1.53182106,  0.95206163, -2.14848489, ..., -0.9886394 ,\n",
       "           0.0305933 , -0.24655187]],\n",
       " \n",
       "        [[ 0.30835392,  0.51882048, -0.85273944, ...,  0.08682661,\n",
       "           0.03897004,  0.20988382],\n",
       "         [-0.14178336,  0.45692888, -1.20772401, ..., -0.14010658,\n",
       "          -0.22908557,  0.3104757 ],\n",
       "         [-0.4271833 ,  0.51882048, -0.26903302, ...,  1.26095924,\n",
       "           0.85989035,  0.47016532],\n",
       "         ...,\n",
       "         [ 0.91181388,  0.48787468,  1.32994998, ..., -0.6630396 ,\n",
       "           0.03897004, -0.04851159],\n",
       "         [ 1.53182106,  0.95206163, -2.14848489, ..., -0.9886394 ,\n",
       "           0.0305933 , -0.24655187],\n",
       "         [ 1.95115642,  0.92111583, -0.97693229, ...,  2.01082546,\n",
       "           0.09760721, -0.32702538]],\n",
       " \n",
       "        ...,\n",
       " \n",
       "        [[-0.77490334,  0.02368774, -0.42116927, ...,  1.63589235,\n",
       "          -0.25421578, -1.1845712 ],\n",
       "         [-0.84153958, -0.10009545, -0.04548588, ...,  1.94175883,\n",
       "           2.37607991, -1.02110939],\n",
       "         [-0.65507457, -0.06914965,  0.17495643, ...,  1.50762576,\n",
       "          -1.72852165, -0.7444817 ],\n",
       "         ...,\n",
       "         [-0.70706423,  0.39503729, -0.48119581, ..., -1.15637264,\n",
       "          -0.0364206 ,  1.99538979],\n",
       "         [-0.61644046,  0.3640915 , -1.25740115, ...,  1.24122592,\n",
       "           0.15624437,  1.69487153],\n",
       "         [-0.83813021,  0.3640915 , -0.10344255, ..., -1.72863896,\n",
       "           1.70594088,  1.44213442]],\n",
       " \n",
       "        [[-0.84153958, -0.10009545, -0.04548588, ...,  1.94175883,\n",
       "           2.37607991, -1.02110939],\n",
       "         [-0.65507457, -0.06914965,  0.17495643, ...,  1.50762576,\n",
       "          -1.72852165, -0.7444817 ],\n",
       "         [-0.1047527 ,  0.02368774,  0.38608429, ...,  0.7676262 ,\n",
       "          -1.03325241, -0.38360831],\n",
       "         ...,\n",
       "         [-0.61644046,  0.3640915 , -1.25740115, ...,  1.24122592,\n",
       "           0.15624437,  1.69487153],\n",
       "         [-0.83813021,  0.3640915 , -0.10344255, ..., -1.72863896,\n",
       "           1.70594088,  1.44213442],\n",
       "         [-0.84833329,  0.42598309, -0.50706933, ..., -0.49530637,\n",
       "           1.46301548,  1.32645375]],\n",
       " \n",
       "        [[-0.65507457, -0.06914965,  0.17495643, ...,  1.50762576,\n",
       "          -1.72852165, -0.7444817 ],\n",
       "         [-0.1047527 ,  0.02368774,  0.38608429, ...,  0.7676262 ,\n",
       "          -1.03325241, -0.38360831],\n",
       "         [-0.57816449,  0.05463353, -0.547432  , ...,  0.64922628,\n",
       "           0.35728608,  0.23817528],\n",
       "         ...,\n",
       "         [-0.83813021,  0.3640915 , -0.10344255, ..., -1.72863896,\n",
       "           1.70594088,  1.44213442],\n",
       "         [-0.84833329,  0.42598309, -0.50706933, ..., -0.49530637,\n",
       "           1.46301548,  1.32645375],\n",
       "         [-0.83796475,  0.70449526, -0.09309314, ...,  0.88602613,\n",
       "           1.51327591,  1.16550673]]]),\n",
       " array([[[ 6.847120e+01, -2.000000e-02,  3.830000e-01, ...,\n",
       "           7.700000e-01, -1.260000e+02, -1.291000e+00],\n",
       "         [ 2.498150e+01, -1.000000e-02, -5.190000e-01, ...,\n",
       "           6.500000e-01,  4.000000e+01, -3.020000e-01],\n",
       "         [ 1.229149e+02,  1.000000e-02,  8.210000e-01, ...,\n",
       "          -1.600000e-01, -1.000000e+00,  8.500000e-01],\n",
       "         ...,\n",
       "         [ 1.626000e-01,  1.100000e-01, -4.800000e-01, ...,\n",
       "          -5.100000e-01,  1.720000e+02,  1.429000e+00],\n",
       "         [ 1.115100e+00,  2.000000e-01, -8.000000e-02, ...,\n",
       "           8.900000e-01,  1.780000e+02,  1.173000e+00],\n",
       "         [ 5.096000e-01,  2.600000e-01, -3.270000e-01, ...,\n",
       "           8.900000e-01,  2.300000e+01,  9.550000e-01]],\n",
       " \n",
       "        [[ 2.498150e+01, -1.000000e-02, -5.190000e-01, ...,\n",
       "           6.500000e-01,  4.000000e+01, -3.020000e-01],\n",
       "         [ 1.229149e+02,  1.000000e-02,  8.210000e-01, ...,\n",
       "          -1.600000e-01, -1.000000e+00,  8.500000e-01],\n",
       "         [ 2.550259e+02,  3.000000e-02,  8.190000e-01, ...,\n",
       "          -1.060000e+00, -5.000000e+00,  1.836000e+00],\n",
       "         ...,\n",
       "         [ 1.115100e+00,  2.000000e-01, -8.000000e-02, ...,\n",
       "           8.900000e-01,  1.780000e+02,  1.173000e+00],\n",
       "         [ 5.096000e-01,  2.600000e-01, -3.270000e-01, ...,\n",
       "           8.900000e-01,  2.300000e+01,  9.550000e-01],\n",
       "         [ 4.094660e+01,  2.300000e-01,  1.676000e+00, ...,\n",
       "           1.110000e+00,  7.300000e+01,  8.390000e-01]],\n",
       " \n",
       "        [[ 1.229149e+02,  1.000000e-02,  8.210000e-01, ...,\n",
       "          -1.600000e-01, -1.000000e+00,  8.500000e-01],\n",
       "         [ 2.550259e+02,  3.000000e-02,  8.190000e-01, ...,\n",
       "          -1.060000e+00, -5.000000e+00,  1.836000e+00],\n",
       "         [ 1.085081e+02,  8.000000e-02,  9.380000e-01, ...,\n",
       "           3.700000e-01, -2.000000e+00,  2.404000e+00],\n",
       "         ...,\n",
       "         [ 5.096000e-01,  2.600000e-01, -3.270000e-01, ...,\n",
       "           8.900000e-01,  2.300000e+01,  9.550000e-01],\n",
       "         [ 4.094660e+01,  2.300000e-01,  1.676000e+00, ...,\n",
       "           1.110000e+00,  7.300000e+01,  8.390000e-01],\n",
       "         [ 8.881800e+01,  1.400000e-01,  9.200000e-02, ...,\n",
       "           1.050000e+00, -1.700000e+01,  7.870000e-01]],\n",
       " \n",
       "        ...,\n",
       " \n",
       "        [[ 1.399493e+02,  6.400000e-01,  1.575000e+00, ...,\n",
       "          -2.410000e+00,  3.000000e+00,  1.577000e+00],\n",
       "         [ 2.708119e+02,  4.300000e-01,  1.424000e+00, ...,\n",
       "           3.800000e-01, -4.000000e+00,  1.546000e+00],\n",
       "         [ 5.131820e+01,  3.300000e-01,  2.275000e+00, ...,\n",
       "          -1.780000e+00, -2.700000e+01,  1.271000e+00],\n",
       "         ...,\n",
       "         [ 5.524140e+01, -0.000000e+00,  1.459000e+00, ...,\n",
       "          -7.600000e-01, -1.700000e+01,  3.630000e-01],\n",
       "         [ 7.751800e+00, -5.000000e-02,  2.221000e+00, ...,\n",
       "           6.000000e-02, -3.000000e+00,  8.440000e-01],\n",
       "         [ 1.370371e+02, -8.000000e-02, -2.200000e-01, ...,\n",
       "           1.300000e-01, -5.000000e+00,  1.082000e+00]],\n",
       " \n",
       "        [[ 2.708119e+02,  4.300000e-01,  1.424000e+00, ...,\n",
       "           3.800000e-01, -4.000000e+00,  1.546000e+00],\n",
       "         [ 5.131820e+01,  3.300000e-01,  2.275000e+00, ...,\n",
       "          -1.780000e+00, -2.700000e+01,  1.271000e+00],\n",
       "         [ 7.829400e+01,  3.700000e-01, -3.500000e-02, ...,\n",
       "           2.500000e-01, -3.700000e+01,  8.440000e-01],\n",
       "         ...,\n",
       "         [ 7.751800e+00, -5.000000e-02,  2.221000e+00, ...,\n",
       "           6.000000e-02, -3.000000e+00,  8.440000e-01],\n",
       "         [ 1.370371e+02, -8.000000e-02, -2.200000e-01, ...,\n",
       "           1.300000e-01, -5.000000e+00,  1.082000e+00],\n",
       "         [ 5.329070e+01, -1.500000e-01, -3.600000e-02, ...,\n",
       "           7.000000e-01,  8.000000e+00,  1.479000e+00]],\n",
       " \n",
       "        [[ 5.131820e+01,  3.300000e-01,  2.275000e+00, ...,\n",
       "          -1.780000e+00, -2.700000e+01,  1.271000e+00],\n",
       "         [ 7.829400e+01,  3.700000e-01, -3.500000e-02, ...,\n",
       "           2.500000e-01, -3.700000e+01,  8.440000e-01],\n",
       "         [ 5.233380e+01,  3.400000e-01, -8.580000e-01, ...,\n",
       "           3.500000e-01, -3.800000e+01,  6.750000e-01],\n",
       "         ...,\n",
       "         [ 1.370371e+02, -8.000000e-02, -2.200000e-01, ...,\n",
       "           1.300000e-01, -5.000000e+00,  1.082000e+00],\n",
       "         [ 5.329070e+01, -1.500000e-01, -3.600000e-02, ...,\n",
       "           7.000000e-01,  8.000000e+00,  1.479000e+00],\n",
       "         [ 2.247578e+02, -1.700000e-01,  1.037000e+00, ...,\n",
       "          -1.900000e-01, -6.000000e+00,  1.613000e+00]]]),\n",
       " array([[[ 7.829400e+01,  3.700000e-01, -3.500000e-02, ...,\n",
       "           2.500000e-01, -3.700000e+01,  8.440000e-01],\n",
       "         [ 5.233380e+01,  3.400000e-01, -8.580000e-01, ...,\n",
       "           3.500000e-01, -3.800000e+01,  6.750000e-01],\n",
       "         [ 1.018900e+00,  3.300000e-01, -4.720000e-01, ...,\n",
       "          -7.500000e-01, -1.530000e+02,  3.870000e-01],\n",
       "         ...,\n",
       "         [ 5.329070e+01, -1.500000e-01, -3.600000e-02, ...,\n",
       "           7.000000e-01,  8.000000e+00,  1.479000e+00],\n",
       "         [ 2.247578e+02, -1.700000e-01,  1.037000e+00, ...,\n",
       "          -1.900000e-01, -6.000000e+00,  1.613000e+00],\n",
       "         [ 1.031797e+02, -1.000000e-01, -3.500000e-02, ...,\n",
       "          -9.000000e-02,  1.000000e+01,  1.596000e+00]],\n",
       " \n",
       "        [[ 5.233380e+01,  3.400000e-01, -8.580000e-01, ...,\n",
       "           3.500000e-01, -3.800000e+01,  6.750000e-01],\n",
       "         [ 1.018900e+00,  3.300000e-01, -4.720000e-01, ...,\n",
       "          -7.500000e-01, -1.530000e+02,  3.870000e-01],\n",
       "         [ 8.360000e-02,  2.300000e-01, -1.063000e+00, ...,\n",
       "           1.400000e+00,  1.740000e+02,  1.680000e-01],\n",
       "         ...,\n",
       "         [ 2.247578e+02, -1.700000e-01,  1.037000e+00, ...,\n",
       "          -1.900000e-01, -6.000000e+00,  1.613000e+00],\n",
       "         [ 1.031797e+02, -1.000000e-01, -3.500000e-02, ...,\n",
       "          -9.000000e-02,  1.000000e+01,  1.596000e+00],\n",
       "         [ 1.230380e+01,  0.000000e+00,  1.680000e-01, ...,\n",
       "          -2.900000e-01,  7.200000e+01,  1.191000e+00]],\n",
       " \n",
       "        [[ 1.018900e+00,  3.300000e-01, -4.720000e-01, ...,\n",
       "          -7.500000e-01, -1.530000e+02,  3.870000e-01],\n",
       "         [ 8.360000e-02,  2.300000e-01, -1.063000e+00, ...,\n",
       "           1.400000e+00,  1.740000e+02,  1.680000e-01],\n",
       "         [ 4.847600e+00,  1.600000e-01,  6.650000e-01, ...,\n",
       "          -3.900000e-01, -1.600000e+02, -2.900000e-02],\n",
       "         ...,\n",
       "         [ 1.031797e+02, -1.000000e-01, -3.500000e-02, ...,\n",
       "          -9.000000e-02,  1.000000e+01,  1.596000e+00],\n",
       "         [ 1.230380e+01,  0.000000e+00,  1.680000e-01, ...,\n",
       "          -2.900000e-01,  7.200000e+01,  1.191000e+00],\n",
       "         [ 1.664520e+01,  1.500000e-01, -6.720000e-01, ...,\n",
       "          -4.200000e-01,  4.100000e+01,  6.010000e-01]],\n",
       " \n",
       "        ...,\n",
       " \n",
       "        [[ 9.500800e+00,  2.800000e-01,  2.630000e-01, ...,\n",
       "          -2.100000e-01,  1.500000e+01, -1.583000e+00],\n",
       "         [ 3.539420e+01,  1.900000e-01,  2.029000e+00, ...,\n",
       "          -1.140000e+00, -6.000000e+00, -1.043000e+00],\n",
       "         [ 1.292920e+01,  1.000000e-01,  1.475000e+00, ...,\n",
       "          -1.160000e+00,  0.000000e+00, -1.077000e+00],\n",
       "         ...,\n",
       "         [ 3.341000e+00,  1.100000e-01, -4.890000e-01, ...,\n",
       "           5.000000e-01, -2.140000e+02, -4.060000e-01],\n",
       "         [ 1.078540e+01,  2.100000e-01, -3.720000e-01, ...,\n",
       "           1.350000e+00,  1.840000e+02, -4.990000e-01],\n",
       "         [ 2.804060e+01,  3.400000e-01,  1.020000e-01, ...,\n",
       "           7.800000e-01,  1.790000e+02, -8.130000e-01]],\n",
       " \n",
       "        [[ 3.539420e+01,  1.900000e-01,  2.029000e+00, ...,\n",
       "          -1.140000e+00, -6.000000e+00, -1.043000e+00],\n",
       "         [ 1.292920e+01,  1.000000e-01,  1.475000e+00, ...,\n",
       "          -1.160000e+00,  0.000000e+00, -1.077000e+00],\n",
       "         [ 2.119960e+01,  1.000000e-02, -9.690000e-01, ...,\n",
       "           5.900000e-01,  9.000000e+00, -1.358000e+00],\n",
       "         ...,\n",
       "         [ 1.078540e+01,  2.100000e-01, -3.720000e-01, ...,\n",
       "           1.350000e+00,  1.840000e+02, -4.990000e-01],\n",
       "         [ 2.804060e+01,  3.400000e-01,  1.020000e-01, ...,\n",
       "           7.800000e-01,  1.790000e+02, -8.130000e-01],\n",
       "         [ 4.691960e+01,  3.400000e-01, -1.134000e+00, ...,\n",
       "           1.140000e+00,  2.900000e+01, -1.238000e+00]],\n",
       " \n",
       "        [[ 1.292920e+01,  1.000000e-01,  1.475000e+00, ...,\n",
       "          -1.160000e+00,  0.000000e+00, -1.077000e+00],\n",
       "         [ 2.119960e+01,  1.000000e-02, -9.690000e-01, ...,\n",
       "           5.900000e-01,  9.000000e+00, -1.358000e+00],\n",
       "         [ 1.980503e+02, -1.900000e-01,  4.400000e-02, ...,\n",
       "          -1.570000e+00,  3.000000e+00, -1.503000e+00],\n",
       "         ...,\n",
       "         [ 2.804060e+01,  3.400000e-01,  1.020000e-01, ...,\n",
       "           7.800000e-01,  1.790000e+02, -8.130000e-01],\n",
       "         [ 4.691960e+01,  3.400000e-01, -1.134000e+00, ...,\n",
       "           1.140000e+00,  2.900000e+01, -1.238000e+00],\n",
       "         [ 8.796250e+01,  2.600000e-01, -5.300000e-01, ...,\n",
       "           6.400000e-01,  1.600000e+01, -1.715000e+00]]]))"
      ]
     },
     "execution_count": 147,
     "metadata": {},
     "output_type": "execute_result"
    }
   ],
   "source": [
    "preprocess(X_train2)\n",
    "preprocess(X_val2)\n",
    "preprocess(X_test2)\n",
    "X_train2, X_val2, X_test2"
   ]
  },
  {
   "cell_type": "code",
   "execution_count": 148,
   "metadata": {},
   "outputs": [
    {
     "name": "stdout",
     "output_type": "stream",
     "text": [
      "Model: \"sequential_9\"\n",
      "_________________________________________________________________\n",
      " Layer (type)                Output Shape              Param #   \n",
      "=================================================================\n",
      " lstm_6 (LSTM)               (None, 64)                18944     \n",
      "                                                                 \n",
      " dense_16 (Dense)            (None, 8)                 520       \n",
      "                                                                 \n",
      " dense_17 (Dense)            (None, 1)                 9         \n",
      "                                                                 \n",
      "=================================================================\n",
      "Total params: 19,473\n",
      "Trainable params: 19,473\n",
      "Non-trainable params: 0\n",
      "_________________________________________________________________\n"
     ]
    }
   ],
   "source": [
    "# Multivariate LSTM\n",
    "\n",
    "model4 = Sequential()\n",
    "model4.add(InputLayer((12, 9)))\n",
    "model4.add(LSTM(64))\n",
    "model4.add(Dense(8, 'relu'))\n",
    "model4.add(Dense(1, 'linear'))\n",
    "\n",
    "model4.summary()"
   ]
  },
  {
   "cell_type": "code",
   "execution_count": 157,
   "metadata": {},
   "outputs": [],
   "source": [
    "cp4 = ModelCheckpoint('model4/', save_best_only=True)\n",
    "model4.compile(loss=MeanSquaredError(), optimizer=Adam(learning_rate=0.7), metrics=[RootMeanSquaredError()])"
   ]
  },
  {
   "cell_type": "code",
   "execution_count": 160,
   "metadata": {},
   "outputs": [
    {
     "name": "stdout",
     "output_type": "stream",
     "text": [
      "Epoch 1/20\n",
      " 9/11 [=======================>......] - ETA: 0s - loss: 8986.6016 - root_mean_squared_error: 94.7977   "
     ]
    },
    {
     "name": "stderr",
     "output_type": "stream",
     "text": [
      "WARNING:absl:Found untraced functions such as _update_step_xla, lstm_cell_7_layer_call_fn, lstm_cell_7_layer_call_and_return_conditional_losses while saving (showing 3 of 3). These functions will not be directly callable after loading.\n"
     ]
    },
    {
     "name": "stdout",
     "output_type": "stream",
     "text": [
      "INFO:tensorflow:Assets written to: model4/assets\n"
     ]
    },
    {
     "name": "stderr",
     "output_type": "stream",
     "text": [
      "INFO:tensorflow:Assets written to: model4/assets\n"
     ]
    },
    {
     "name": "stdout",
     "output_type": "stream",
     "text": [
      "11/11 [==============================] - 6s 409ms/step - loss: 8601.7197 - root_mean_squared_error: 92.7455 - val_loss: 7483.3247 - val_root_mean_squared_error: 86.5062\n",
      "Epoch 2/20\n",
      "11/11 [==============================] - 0s 10ms/step - loss: 8608.8545 - root_mean_squared_error: 92.7839 - val_loss: 8412.6846 - val_root_mean_squared_error: 91.7207\n",
      "Epoch 3/20\n",
      "11/11 [==============================] - 0s 9ms/step - loss: 7836.9897 - root_mean_squared_error: 88.5268 - val_loss: 8790.0000 - val_root_mean_squared_error: 93.7550\n",
      "Epoch 4/20\n",
      "11/11 [==============================] - 0s 11ms/step - loss: 8235.4668 - root_mean_squared_error: 90.7495 - val_loss: 8475.2227 - val_root_mean_squared_error: 92.0610\n",
      "Epoch 5/20\n",
      "11/11 [==============================] - 0s 9ms/step - loss: 7774.9897 - root_mean_squared_error: 88.1759 - val_loss: 8126.4316 - val_root_mean_squared_error: 90.1467\n",
      "Epoch 6/20\n",
      "11/11 [==============================] - 0s 10ms/step - loss: 8190.6426 - root_mean_squared_error: 90.5022 - val_loss: 8025.1714 - val_root_mean_squared_error: 89.5833\n",
      "Epoch 7/20\n",
      "11/11 [==============================] - 0s 9ms/step - loss: 8119.4478 - root_mean_squared_error: 90.1080 - val_loss: 7777.3911 - val_root_mean_squared_error: 88.1895\n",
      "Epoch 8/20\n",
      "11/11 [==============================] - 0s 9ms/step - loss: 7802.6143 - root_mean_squared_error: 88.3324 - val_loss: 7494.4092 - val_root_mean_squared_error: 86.5703\n",
      "Epoch 9/20\n",
      " 9/11 [=======================>......] - ETA: 0s - loss: 7819.3618 - root_mean_squared_error: 88.4272"
     ]
    },
    {
     "name": "stderr",
     "output_type": "stream",
     "text": [
      "WARNING:absl:Found untraced functions such as _update_step_xla, lstm_cell_7_layer_call_fn, lstm_cell_7_layer_call_and_return_conditional_losses while saving (showing 3 of 3). These functions will not be directly callable after loading.\n"
     ]
    },
    {
     "name": "stdout",
     "output_type": "stream",
     "text": [
      "INFO:tensorflow:Assets written to: model4/assets\n"
     ]
    },
    {
     "name": "stderr",
     "output_type": "stream",
     "text": [
      "INFO:tensorflow:Assets written to: model4/assets\n"
     ]
    },
    {
     "name": "stdout",
     "output_type": "stream",
     "text": [
      "11/11 [==============================] - 5s 496ms/step - loss: 7986.9570 - root_mean_squared_error: 89.3698 - val_loss: 7265.9624 - val_root_mean_squared_error: 85.2406\n",
      "Epoch 10/20\n",
      " 9/11 [=======================>......] - ETA: 0s - loss: 8418.5908 - root_mean_squared_error: 91.7529"
     ]
    },
    {
     "name": "stderr",
     "output_type": "stream",
     "text": [
      "WARNING:absl:Found untraced functions such as _update_step_xla, lstm_cell_7_layer_call_fn, lstm_cell_7_layer_call_and_return_conditional_losses while saving (showing 3 of 3). These functions will not be directly callable after loading.\n"
     ]
    },
    {
     "name": "stdout",
     "output_type": "stream",
     "text": [
      "INFO:tensorflow:Assets written to: model4/assets\n"
     ]
    },
    {
     "name": "stderr",
     "output_type": "stream",
     "text": [
      "INFO:tensorflow:Assets written to: model4/assets\n"
     ]
    },
    {
     "name": "stdout",
     "output_type": "stream",
     "text": [
      "11/11 [==============================] - 4s 374ms/step - loss: 7734.3682 - root_mean_squared_error: 87.9453 - val_loss: 6220.3882 - val_root_mean_squared_error: 78.8694\n",
      "Epoch 11/20\n",
      "10/11 [==========================>...] - ETA: 0s - loss: 7496.0845 - root_mean_squared_error: 86.5799"
     ]
    },
    {
     "name": "stderr",
     "output_type": "stream",
     "text": [
      "WARNING:absl:Found untraced functions such as _update_step_xla, lstm_cell_7_layer_call_fn, lstm_cell_7_layer_call_and_return_conditional_losses while saving (showing 3 of 3). These functions will not be directly callable after loading.\n"
     ]
    },
    {
     "name": "stdout",
     "output_type": "stream",
     "text": [
      "INFO:tensorflow:Assets written to: model4/assets\n"
     ]
    },
    {
     "name": "stderr",
     "output_type": "stream",
     "text": [
      "INFO:tensorflow:Assets written to: model4/assets\n"
     ]
    },
    {
     "name": "stdout",
     "output_type": "stream",
     "text": [
      "11/11 [==============================] - 4s 376ms/step - loss: 8151.6284 - root_mean_squared_error: 90.2864 - val_loss: 5573.0845 - val_root_mean_squared_error: 74.6531\n",
      "Epoch 12/20\n",
      "10/11 [==========================>...] - ETA: 0s - loss: 8357.6572 - root_mean_squared_error: 91.4202"
     ]
    },
    {
     "name": "stderr",
     "output_type": "stream",
     "text": [
      "WARNING:absl:Found untraced functions such as _update_step_xla, lstm_cell_7_layer_call_fn, lstm_cell_7_layer_call_and_return_conditional_losses while saving (showing 3 of 3). These functions will not be directly callable after loading.\n"
     ]
    },
    {
     "name": "stdout",
     "output_type": "stream",
     "text": [
      "INFO:tensorflow:Assets written to: model4/assets\n"
     ]
    },
    {
     "name": "stderr",
     "output_type": "stream",
     "text": [
      "INFO:tensorflow:Assets written to: model4/assets\n"
     ]
    },
    {
     "name": "stdout",
     "output_type": "stream",
     "text": [
      "11/11 [==============================] - 4s 433ms/step - loss: 8081.6558 - root_mean_squared_error: 89.8980 - val_loss: 5055.2651 - val_root_mean_squared_error: 71.1004\n",
      "Epoch 13/20\n",
      "11/11 [==============================] - 0s 11ms/step - loss: 7994.3833 - root_mean_squared_error: 89.4113 - val_loss: 5288.3809 - val_root_mean_squared_error: 72.7213\n",
      "Epoch 14/20\n",
      "11/11 [==============================] - 0s 9ms/step - loss: 7041.1216 - root_mean_squared_error: 83.9114 - val_loss: 5756.3247 - val_root_mean_squared_error: 75.8704\n",
      "Epoch 15/20\n",
      "11/11 [==============================] - 0s 11ms/step - loss: 7473.3921 - root_mean_squared_error: 86.4488 - val_loss: 5859.5151 - val_root_mean_squared_error: 76.5475\n",
      "Epoch 16/20\n",
      "11/11 [==============================] - 0s 9ms/step - loss: 8037.1919 - root_mean_squared_error: 89.6504 - val_loss: 6724.1670 - val_root_mean_squared_error: 82.0010\n",
      "Epoch 17/20\n",
      "11/11 [==============================] - 0s 9ms/step - loss: 7843.4224 - root_mean_squared_error: 88.5631 - val_loss: 5326.5093 - val_root_mean_squared_error: 72.9829\n",
      "Epoch 18/20\n",
      "11/11 [==============================] - 0s 9ms/step - loss: 7619.8774 - root_mean_squared_error: 87.2919 - val_loss: 5736.1533 - val_root_mean_squared_error: 75.7374\n",
      "Epoch 19/20\n",
      "11/11 [==============================] - 0s 10ms/step - loss: 7460.3486 - root_mean_squared_error: 86.3733 - val_loss: 7486.7290 - val_root_mean_squared_error: 86.5259\n",
      "Epoch 20/20\n",
      "11/11 [==============================] - 0s 9ms/step - loss: 7632.1875 - root_mean_squared_error: 87.3624 - val_loss: 5519.2246 - val_root_mean_squared_error: 74.2915\n"
     ]
    },
    {
     "data": {
      "text/plain": [
       "<keras.callbacks.History at 0x7f5139634cd0>"
      ]
     },
     "execution_count": 160,
     "metadata": {},
     "output_type": "execute_result"
    }
   ],
   "source": [
    "# Fit the model (only save model if validation loss is small)\n",
    "model4.fit(X_train2, y_train2, validation_data=(X_val2, y_val2), epochs=20, callbacks=[cp4])"
   ]
  },
  {
   "cell_type": "code",
   "execution_count": 45,
   "metadata": {},
   "outputs": [],
   "source": [
    "def postprocess_precipitation(arr):\n",
    "  # arr = (arr*precip_training_std) + precip_training_mean\n",
    "  return arr"
   ]
  },
  {
   "cell_type": "code",
   "execution_count": 158,
   "metadata": {},
   "outputs": [],
   "source": [
    "import matplotlib.pyplot as plt\n",
    "from sklearn.metrics import mean_squared_error as mse\n",
    "\n",
    "# Quickly plot and show prediction vs actual data\n",
    "def plot_predictions1(model, X, y, start=0, end=100):\n",
    "    predictions = model.predict(X).flatten()\n",
    "    df = pd.DataFrame(data={'Predictions':predictions, 'Actuals':y})\n",
    "    plt.plot(postprocess_precipitation(df['Predictions'][start:end]))\n",
    "    plt.plot(df['Actuals'][start:end])\n",
    "    plt.show()\n",
    "    return df, mse(y, predictions)"
   ]
  },
  {
   "cell_type": "code",
   "execution_count": 161,
   "metadata": {},
   "outputs": [
    {
     "name": "stdout",
     "output_type": "stream",
     "text": [
      "1/1 [==============================] - 0s 20ms/step\n"
     ]
    },
    {
     "data": {
      "image/png": "[encoded data removed]",
      "text/plain": [
       "<Figure size 640x480 with 1 Axes>"
      ]
     },
     "metadata": {},
     "output_type": "display_data"
    },
    {
     "data": {
      "text/plain": [
       "(    Predictions   Actuals\n",
       " 0     87.706902   12.3038\n",
       " 1    106.346466   16.6452\n",
       " 2    106.398613    1.6076\n",
       " 3     97.037125    1.2084\n",
       " 4     97.038086    0.5175\n",
       " 5     97.038208   43.8587\n",
       " 6     73.467133  196.8465\n",
       " 7    100.276291  280.8822\n",
       " 8     83.132751   34.0143\n",
       " 9     74.145737   16.8840\n",
       " 10    92.579559   55.8045\n",
       " 11    93.109665   33.7725\n",
       " 12   107.050797   29.7707\n",
       " 13    66.829369   28.7977\n",
       " 14    66.829498    3.5158\n",
       " 15    62.067284    4.5060\n",
       " 16    97.038231   32.0714\n",
       " 17   106.840645    9.5008\n",
       " 18    91.716629   35.3942\n",
       " 19    73.264114   12.9292\n",
       " 20    74.398956   21.1996\n",
       " 21    92.164062  198.0503\n",
       " 22    85.796585  161.3026\n",
       " 23    88.266273   41.2507\n",
       " 24    72.761688   14.4935\n",
       " 25    97.030045    2.0898\n",
       " 26   106.965057    3.3410\n",
       " 27    63.997948   10.7854\n",
       " 28    99.702049   28.0406\n",
       " 29    99.787811   46.9196\n",
       " 30   107.028152   87.9625\n",
       " 31   105.934418  297.4748,\n",
       " 7269.02481175331)"
      ]
     },
     "execution_count": 161,
     "metadata": {},
     "output_type": "execute_result"
    }
   ],
   "source": [
    "plot_predictions1(model4, X_test2, y_test2)"
   ]
  }
 ],
 "metadata": {
  "kernelspec": {
   "display_name": "waterchallenge",
   "language": "python",
   "name": "python3"
  },
  "language_info": {
   "codemirror_mode": {
    "name": "ipython",
    "version": 3
   },
   "file_extension": ".py",
   "mimetype": "text/x-python",
   "name": "python",
   "nbconvert_exporter": "python",
   "pygments_lexer": "ipython3",
   "version": "3.8.5"
  },
  "orig_nbformat": 4,
  "vscode": {
   "interpreter": {
    "hash": "16c436020a9af12c1a61dd5fa57b79314ffaadf61d0710f4133e6bbb7e1524f8"
   }
  }
 },
 "nbformat": 4,
 "nbformat_minor": 2
}
