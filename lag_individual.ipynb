{
 "cells": [
  {
   "cell_type": "code",
   "execution_count": 1,
   "metadata": {},
   "outputs": [],
   "source": [
    "import pandas as pd\n",
    "\n",
    "# load dataset\n",
    "df = pd.read_csv('/mnt/waterchallenge/MainData/00_all_ClimateIndices_and_precip.csv', header=0)\n",
    "lag_feature = pd.DataFrame()\n",
    "# Generate lags for each feature\n",
    "\n",
    "df.sort_values('date', inplace=True)\n",
    "for feature in df.columns:\n",
    "    lag_feature['precipitation'] = df['precipitation']\n",
    "    if feature == 'date':\n",
    "        continue\n",
    "    for i in range(1,24):\n",
    "        lag_feature[\"t -\" + str(i)] = df[feature].shift(i)\n",
    "    lag_feature.to_csv('./lags/' + feature + '.csv')\n"
   ]
  }
 ],
 "metadata": {
  "kernelspec": {
   "display_name": "azureml_py38",
   "language": "python",
   "name": "python3"
  },
  "language_info": {
   "codemirror_mode": {
    "name": "ipython",
    "version": 3
   },
   "file_extension": ".py",
   "mimetype": "text/x-python",
   "name": "python",
   "nbconvert_exporter": "python",
   "pygments_lexer": "ipython3",
   "version": "3.8.5"
  },
  "orig_nbformat": 4,
  "vscode": {
   "interpreter": {
    "hash": "6d65a8c07f5b6469e0fc613f182488c0dccce05038bbda39e5ac9075c0454d11"
   }
  }
 },
 "nbformat": 4,
 "nbformat_minor": 2
}
